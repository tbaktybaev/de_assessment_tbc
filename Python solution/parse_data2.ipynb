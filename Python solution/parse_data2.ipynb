{
 "cells": [
  {
   "cell_type": "code",
   "execution_count": 1,
   "metadata": {},
   "outputs": [],
   "source": [
    "import pandas as pd\n",
    "import json\n",
    "from datetime import datetime, timedelta"
   ]
  },
  {
   "cell_type": "code",
   "execution_count": 2,
   "metadata": {},
   "outputs": [],
   "source": [
    "data = pd.read_csv('data.csv')"
   ]
  },
  {
   "cell_type": "code",
   "execution_count": 3,
   "metadata": {},
   "outputs": [
    {
     "data": {
      "text/html": [
       "<div>\n",
       "<style scoped>\n",
       "    .dataframe tbody tr th:only-of-type {\n",
       "        vertical-align: middle;\n",
       "    }\n",
       "\n",
       "    .dataframe tbody tr th {\n",
       "        vertical-align: top;\n",
       "    }\n",
       "\n",
       "    .dataframe thead th {\n",
       "        text-align: right;\n",
       "    }\n",
       "</style>\n",
       "<table border=\"1\" class=\"dataframe\">\n",
       "  <thead>\n",
       "    <tr style=\"text-align: right;\">\n",
       "      <th></th>\n",
       "      <th>id</th>\n",
       "      <th>application_date</th>\n",
       "      <th>contracts</th>\n",
       "    </tr>\n",
       "  </thead>\n",
       "  <tbody>\n",
       "    <tr>\n",
       "      <th>0</th>\n",
       "      <td>2925210.0</td>\n",
       "      <td>2024-02-12 19:22:46.652000+00:00</td>\n",
       "      <td>NaN</td>\n",
       "    </tr>\n",
       "    <tr>\n",
       "      <th>1</th>\n",
       "      <td>2925211.0</td>\n",
       "      <td>2024-02-12 19:24:29.135000+00:00</td>\n",
       "      <td>[{\"contract_id\": 522530, \"bank\": \"003\", \"summa...</td>\n",
       "    </tr>\n",
       "    <tr>\n",
       "      <th>2</th>\n",
       "      <td>2925212.0</td>\n",
       "      <td>2024-02-12 19:24:41.493000+00:00</td>\n",
       "      <td>NaN</td>\n",
       "    </tr>\n",
       "    <tr>\n",
       "      <th>3</th>\n",
       "      <td>2925213.0</td>\n",
       "      <td>2024-02-12 19:24:29.135000+00:00</td>\n",
       "      <td>[{\"contract_id\": 522530, \"bank\": \"003\", \"summa...</td>\n",
       "    </tr>\n",
       "    <tr>\n",
       "      <th>4</th>\n",
       "      <td>2925214.0</td>\n",
       "      <td>2024-02-12 19:24:56.857000+00:00</td>\n",
       "      <td>NaN</td>\n",
       "    </tr>\n",
       "  </tbody>\n",
       "</table>\n",
       "</div>"
      ],
      "text/plain": [
       "          id                  application_date  \\\n",
       "0  2925210.0  2024-02-12 19:22:46.652000+00:00   \n",
       "1  2925211.0  2024-02-12 19:24:29.135000+00:00   \n",
       "2  2925212.0  2024-02-12 19:24:41.493000+00:00   \n",
       "3  2925213.0  2024-02-12 19:24:29.135000+00:00   \n",
       "4  2925214.0  2024-02-12 19:24:56.857000+00:00   \n",
       "\n",
       "                                           contracts  \n",
       "0                                                NaN  \n",
       "1  [{\"contract_id\": 522530, \"bank\": \"003\", \"summa...  \n",
       "2                                                NaN  \n",
       "3  [{\"contract_id\": 522530, \"bank\": \"003\", \"summa...  \n",
       "4                                                NaN  "
      ]
     },
     "execution_count": 3,
     "metadata": {},
     "output_type": "execute_result"
    }
   ],
   "source": [
    "data.head()"
   ]
  },
  {
   "cell_type": "code",
   "execution_count": 4,
   "metadata": {},
   "outputs": [
    {
     "name": "stdout",
     "output_type": "stream",
     "text": [
      "<class 'pandas.core.frame.DataFrame'>\n",
      "RangeIndex: 1000 entries, 0 to 999\n",
      "Data columns (total 3 columns):\n",
      " #   Column            Non-Null Count  Dtype  \n",
      "---  ------            --------------  -----  \n",
      " 0   id                1000 non-null   float64\n",
      " 1   application_date  1000 non-null   object \n",
      " 2   contracts         495 non-null    object \n",
      "dtypes: float64(1), object(2)\n",
      "memory usage: 23.6+ KB\n"
     ]
    }
   ],
   "source": [
    "data.info()"
   ]
  },
  {
   "cell_type": "code",
   "execution_count": 5,
   "metadata": {},
   "outputs": [],
   "source": [
    "data['id'] = data['id'].astype('Int64')"
   ]
  },
  {
   "cell_type": "code",
   "execution_count": 6,
   "metadata": {},
   "outputs": [],
   "source": [
    "data['application_date'] = pd.to_datetime(data['application_date'],format='mixed')"
   ]
  },
  {
   "cell_type": "code",
   "execution_count": 7,
   "metadata": {},
   "outputs": [],
   "source": [
    "data['contracts'] = data['contracts'].apply(lambda x: json.loads(x) if pd.notnull(x) else [])"
   ]
  },
  {
   "cell_type": "code",
   "execution_count": 8,
   "metadata": {},
   "outputs": [],
   "source": [
    "data = data.explode('contracts')\n",
    "data = data.reset_index(drop=True)"
   ]
  },
  {
   "cell_type": "code",
   "execution_count": 9,
   "metadata": {},
   "outputs": [],
   "source": [
    "contracts = pd.json_normalize(data['contracts'])"
   ]
  },
  {
   "cell_type": "code",
   "execution_count": 10,
   "metadata": {},
   "outputs": [],
   "source": [
    "data = pd.concat([data.drop(columns=['contracts']), contracts], axis=1)"
   ]
  },
  {
   "cell_type": "code",
   "execution_count": 14,
   "metadata": {},
   "outputs": [
    {
     "data": {
      "text/html": [
       "<div>\n",
       "<style scoped>\n",
       "    .dataframe tbody tr th:only-of-type {\n",
       "        vertical-align: middle;\n",
       "    }\n",
       "\n",
       "    .dataframe tbody tr th {\n",
       "        vertical-align: top;\n",
       "    }\n",
       "\n",
       "    .dataframe thead th {\n",
       "        text-align: right;\n",
       "    }\n",
       "</style>\n",
       "<table border=\"1\" class=\"dataframe\">\n",
       "  <thead>\n",
       "    <tr style=\"text-align: right;\">\n",
       "      <th></th>\n",
       "      <th>id</th>\n",
       "      <th>application_date</th>\n",
       "      <th>contract_id</th>\n",
       "      <th>bank</th>\n",
       "      <th>summa</th>\n",
       "      <th>loan_summa</th>\n",
       "      <th>claim_date</th>\n",
       "      <th>claim_id</th>\n",
       "      <th>contract_date</th>\n",
       "    </tr>\n",
       "  </thead>\n",
       "  <tbody>\n",
       "    <tr>\n",
       "      <th>0</th>\n",
       "      <td>2925210</td>\n",
       "      <td>2024-02-12 19:22:46.652</td>\n",
       "      <td>NaN</td>\n",
       "      <td>NaN</td>\n",
       "      <td>NaN</td>\n",
       "      <td>NaN</td>\n",
       "      <td>NaT</td>\n",
       "      <td>NaN</td>\n",
       "      <td>NaT</td>\n",
       "    </tr>\n",
       "    <tr>\n",
       "      <th>1</th>\n",
       "      <td>2925211</td>\n",
       "      <td>2024-02-12 19:24:29.135</td>\n",
       "      <td>522530</td>\n",
       "      <td>003</td>\n",
       "      <td>500000000.0</td>\n",
       "      <td>0.0</td>\n",
       "      <td>2020-02-13</td>\n",
       "      <td>609965</td>\n",
       "      <td>2020-02-17</td>\n",
       "    </tr>\n",
       "    <tr>\n",
       "      <th>2</th>\n",
       "      <td>2925211</td>\n",
       "      <td>2024-02-12 19:24:29.135</td>\n",
       "      <td></td>\n",
       "      <td>014</td>\n",
       "      <td>NaN</td>\n",
       "      <td>NaN</td>\n",
       "      <td>2020-08-28</td>\n",
       "      <td>F00013731</td>\n",
       "      <td>NaT</td>\n",
       "    </tr>\n",
       "    <tr>\n",
       "      <th>3</th>\n",
       "      <td>2925211</td>\n",
       "      <td>2024-02-12 19:24:29.135</td>\n",
       "      <td></td>\n",
       "      <td>014</td>\n",
       "      <td>NaN</td>\n",
       "      <td>NaN</td>\n",
       "      <td>2020-10-08</td>\n",
       "      <td>F00021301</td>\n",
       "      <td>NaT</td>\n",
       "    </tr>\n",
       "    <tr>\n",
       "      <th>4</th>\n",
       "      <td>2925211</td>\n",
       "      <td>2024-02-12 19:24:29.135</td>\n",
       "      <td></td>\n",
       "      <td>014</td>\n",
       "      <td>NaN</td>\n",
       "      <td>NaN</td>\n",
       "      <td>2020-11-25</td>\n",
       "      <td>F00037907</td>\n",
       "      <td>NaT</td>\n",
       "    </tr>\n",
       "  </tbody>\n",
       "</table>\n",
       "</div>"
      ],
      "text/plain": [
       "        id        application_date contract_id bank        summa  loan_summa  \\\n",
       "0  2925210 2024-02-12 19:22:46.652         NaN  NaN          NaN         NaN   \n",
       "1  2925211 2024-02-12 19:24:29.135      522530  003  500000000.0         0.0   \n",
       "2  2925211 2024-02-12 19:24:29.135              014          NaN         NaN   \n",
       "3  2925211 2024-02-12 19:24:29.135              014          NaN         NaN   \n",
       "4  2925211 2024-02-12 19:24:29.135              014          NaN         NaN   \n",
       "\n",
       "  claim_date   claim_id contract_date  \n",
       "0        NaT        NaN           NaT  \n",
       "1 2020-02-13     609965    2020-02-17  \n",
       "2 2020-08-28  F00013731           NaT  \n",
       "3 2020-10-08  F00021301           NaT  \n",
       "4 2020-11-25  F00037907           NaT  "
      ]
     },
     "execution_count": 14,
     "metadata": {},
     "output_type": "execute_result"
    }
   ],
   "source": [
    "data.head()"
   ]
  },
  {
   "cell_type": "code",
   "execution_count": 15,
   "metadata": {},
   "outputs": [],
   "source": [
    "def convert_data_types(df):\n",
    "    df['application_date'] = pd.to_datetime(df['application_date'], errors='coerce').dt.tz_localize(None)\n",
    "    df['claim_date'] = pd.to_datetime(df['claim_date'], format='%d.%m.%Y', errors='coerce').dt.tz_localize(None)\n",
    "    df['contract_date'] = pd.to_datetime(df['contract_date'], format='%d.%m.%Y', errors='coerce').dt.tz_localize(None)\n",
    "    df['summa'] = pd.to_numeric(df['summa'], errors='coerce')\n",
    "    df['loan_summa'] = pd.to_numeric(df['loan_summa'], errors='coerce')\n",
    "    return df"
   ]
  },
  {
   "cell_type": "code",
   "execution_count": 16,
   "metadata": {},
   "outputs": [
    {
     "name": "stdout",
     "output_type": "stream",
     "text": [
      "<class 'pandas.core.frame.DataFrame'>\n",
      "RangeIndex: 10069 entries, 0 to 10068\n",
      "Data columns (total 9 columns):\n",
      " #   Column            Non-Null Count  Dtype         \n",
      "---  ------            --------------  -----         \n",
      " 0   id                10069 non-null  Int64         \n",
      " 1   application_date  10069 non-null  datetime64[ns]\n",
      " 2   contract_id       9220 non-null   object        \n",
      " 3   bank              9078 non-null   object        \n",
      " 4   summa             1894 non-null   float64       \n",
      " 5   loan_summa        1714 non-null   float64       \n",
      " 6   claim_date        9220 non-null   datetime64[ns]\n",
      " 7   claim_id          9220 non-null   object        \n",
      " 8   contract_date     1894 non-null   datetime64[ns]\n",
      "dtypes: Int64(1), datetime64[ns](3), float64(2), object(3)\n",
      "memory usage: 717.9+ KB\n"
     ]
    }
   ],
   "source": [
    "data = convert_data_types(data)\n",
    "data.info()"
   ]
  },
  {
   "cell_type": "code",
   "execution_count": 19,
   "metadata": {},
   "outputs": [
    {
     "data": {
      "text/html": [
       "<div>\n",
       "<style scoped>\n",
       "    .dataframe tbody tr th:only-of-type {\n",
       "        vertical-align: middle;\n",
       "    }\n",
       "\n",
       "    .dataframe tbody tr th {\n",
       "        vertical-align: top;\n",
       "    }\n",
       "\n",
       "    .dataframe thead th {\n",
       "        text-align: right;\n",
       "    }\n",
       "</style>\n",
       "<table border=\"1\" class=\"dataframe\">\n",
       "  <thead>\n",
       "    <tr style=\"text-align: right;\">\n",
       "      <th></th>\n",
       "      <th>id</th>\n",
       "      <th>application_date</th>\n",
       "      <th>contract_id</th>\n",
       "      <th>bank</th>\n",
       "      <th>summa</th>\n",
       "      <th>loan_summa</th>\n",
       "      <th>claim_date</th>\n",
       "      <th>claim_id</th>\n",
       "      <th>contract_date</th>\n",
       "    </tr>\n",
       "  </thead>\n",
       "  <tbody>\n",
       "    <tr>\n",
       "      <th>0</th>\n",
       "      <td>2925210</td>\n",
       "      <td>2024-02-12 19:22:46.652</td>\n",
       "      <td>NaN</td>\n",
       "      <td>NaN</td>\n",
       "      <td>NaN</td>\n",
       "      <td>NaN</td>\n",
       "      <td>NaT</td>\n",
       "      <td>NaN</td>\n",
       "      <td>NaT</td>\n",
       "    </tr>\n",
       "    <tr>\n",
       "      <th>1</th>\n",
       "      <td>2925211</td>\n",
       "      <td>2024-02-12 19:24:29.135</td>\n",
       "      <td>522530</td>\n",
       "      <td>003</td>\n",
       "      <td>500000000.0</td>\n",
       "      <td>0.0</td>\n",
       "      <td>2020-02-13</td>\n",
       "      <td>609965</td>\n",
       "      <td>2020-02-17</td>\n",
       "    </tr>\n",
       "    <tr>\n",
       "      <th>2</th>\n",
       "      <td>2925211</td>\n",
       "      <td>2024-02-12 19:24:29.135</td>\n",
       "      <td></td>\n",
       "      <td>014</td>\n",
       "      <td>NaN</td>\n",
       "      <td>NaN</td>\n",
       "      <td>2020-08-28</td>\n",
       "      <td>F00013731</td>\n",
       "      <td>NaT</td>\n",
       "    </tr>\n",
       "    <tr>\n",
       "      <th>3</th>\n",
       "      <td>2925211</td>\n",
       "      <td>2024-02-12 19:24:29.135</td>\n",
       "      <td></td>\n",
       "      <td>014</td>\n",
       "      <td>NaN</td>\n",
       "      <td>NaN</td>\n",
       "      <td>2020-10-08</td>\n",
       "      <td>F00021301</td>\n",
       "      <td>NaT</td>\n",
       "    </tr>\n",
       "    <tr>\n",
       "      <th>4</th>\n",
       "      <td>2925211</td>\n",
       "      <td>2024-02-12 19:24:29.135</td>\n",
       "      <td></td>\n",
       "      <td>014</td>\n",
       "      <td>NaN</td>\n",
       "      <td>NaN</td>\n",
       "      <td>2020-11-25</td>\n",
       "      <td>F00037907</td>\n",
       "      <td>NaT</td>\n",
       "    </tr>\n",
       "  </tbody>\n",
       "</table>\n",
       "</div>"
      ],
      "text/plain": [
       "        id        application_date contract_id bank        summa  loan_summa  \\\n",
       "0  2925210 2024-02-12 19:22:46.652         NaN  NaN          NaN         NaN   \n",
       "1  2925211 2024-02-12 19:24:29.135      522530  003  500000000.0         0.0   \n",
       "2  2925211 2024-02-12 19:24:29.135              014          NaN         NaN   \n",
       "3  2925211 2024-02-12 19:24:29.135              014          NaN         NaN   \n",
       "4  2925211 2024-02-12 19:24:29.135              014          NaN         NaN   \n",
       "\n",
       "  claim_date   claim_id contract_date  \n",
       "0        NaT        NaN           NaT  \n",
       "1 2020-02-13     609965    2020-02-17  \n",
       "2 2020-08-28  F00013731           NaT  \n",
       "3 2020-10-08  F00021301           NaT  \n",
       "4 2020-11-25  F00037907           NaT  "
      ]
     },
     "execution_count": 19,
     "metadata": {},
     "output_type": "execute_result"
    }
   ],
   "source": [
    "data.head()"
   ]
  },
  {
   "cell_type": "code",
   "execution_count": null,
   "metadata": {},
   "outputs": [],
   "source": []
  }
 ],
 "metadata": {
  "kernelspec": {
   "display_name": "Python 3",
   "language": "python",
   "name": "python3"
  },
  "language_info": {
   "codemirror_mode": {
    "name": "ipython",
    "version": 3
   },
   "file_extension": ".py",
   "mimetype": "text/x-python",
   "name": "python",
   "nbconvert_exporter": "python",
   "pygments_lexer": "ipython3",
   "version": "3.9.6"
  }
 },
 "nbformat": 4,
 "nbformat_minor": 2
}
